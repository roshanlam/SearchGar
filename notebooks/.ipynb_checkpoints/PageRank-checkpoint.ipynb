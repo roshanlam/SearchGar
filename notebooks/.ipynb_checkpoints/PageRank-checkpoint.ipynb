{
 "cells": [
  {
   "cell_type": "code",
   "execution_count": 1,
   "id": "7a31a30d",
   "metadata": {},
   "outputs": [],
   "source": [
    "class PageRank:\n",
    "    def __init__(self, query, results):\n",
    "        \"\"\"\n",
    "        query: is the query from the user\n",
    "        results: results from the inverted index\n",
    "        \"\"\"\n",
    "        self.query = query\n",
    "        self.results = results\n",
    "    \n",
    "    def find_relevance(self):\n",
    "        pass\n",
    "    \n",
    "    def relevance_score(self):\n",
    "        pass\n",
    "    \n",
    "class HashTable:\n",
    "    def __init__(self):\n",
    "        self.size = 99999999999\n",
    "        self.index = 0\n",
    "\n",
    "    def add(self, data):\n",
    "        pass\n",
    "    \n",
    "    def get(self, data):\n",
    "        pass"
   ]
  },
  {
   "cell_type": "markdown",
   "id": "50b97b3b",
   "metadata": {},
   "source": [
    "![Page Rank Plan](PageRankPlan.png)"
   ]
  },
  {
   "cell_type": "code",
   "execution_count": null,
   "id": "cab269b2",
   "metadata": {},
   "outputs": [],
   "source": []
  }
 ],
 "metadata": {
  "kernelspec": {
   "display_name": "Python 3 (ipykernel)",
   "language": "python",
   "name": "python3"
  },
  "language_info": {
   "codemirror_mode": {
    "name": "ipython",
    "version": 3
   },
   "file_extension": ".py",
   "mimetype": "text/x-python",
   "name": "python",
   "nbconvert_exporter": "python",
   "pygments_lexer": "ipython3",
   "version": "3.9.12"
  }
 },
 "nbformat": 4,
 "nbformat_minor": 5
}
